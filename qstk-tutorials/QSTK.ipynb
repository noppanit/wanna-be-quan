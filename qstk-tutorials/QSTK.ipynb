{
 "cells": [
  {
   "cell_type": "markdown",
   "metadata": {},
   "source": [
    "# QSTK\n",
    "\n",
    "This is my notebook to learn about QSTK or how to do quantitative financial modelling. \n",
    "\n",
    "The wiki can be found here. http://wiki.quantsoftware.org/index.php?title=QuantSoftware_ToolKit"
   ]
  },
  {
   "cell_type": "markdown",
   "metadata": {},
   "source": [
    "## Reading historical data"
   ]
  },
  {
   "cell_type": "code",
   "execution_count": 22,
   "metadata": {
    "collapsed": false
   },
   "outputs": [],
   "source": [
    "import QSTK.qstkutil.qsdateutil as du\n",
    "import QSTK.qstkutil.tsutil as tsu\n",
    "import QSTK.qstkutil.DataAccess as da\n",
    "\n",
    "import datetime as dt\n",
    "import matplotlib.pyplot as plt\n",
    "import pandas as pd\n",
    "%matplotlib inline"
   ]
  },
  {
   "cell_type": "code",
   "execution_count": 23,
   "metadata": {
    "collapsed": false
   },
   "outputs": [],
   "source": [
    "ls_symbols = [\"AAPL\", \"GLD\", \"GOOG\", \"$SPX\", \"XOM\"]\n",
    "dt_start = dt.datetime(2006,1,1)\n",
    "dt_end = dt.datetime(2010, 12, 31)\n",
    "dt_timeofday = dt.timedelta(hours=16)\n",
    "ldt_timestamps = du.getNYSEdays(dt_start, dt_end, dt_timeofday)"
   ]
  },
  {
   "cell_type": "code",
   "execution_count": 24,
   "metadata": {
    "collapsed": false
   },
   "outputs": [],
   "source": [
    "c_dataobj = da.DataAccess('Yahoo')\n",
    "ls_keys = ['open', 'high', 'low', 'close', 'volume', 'actual_close']\n",
    "ldf_data = c_dataobj.get_data(ldt_timestamps, ls_symbols, ls_keys)\n",
    "d_data = dict(zip(ls_keys, ldf_data))"
   ]
  },
  {
   "cell_type": "markdown",
   "metadata": {},
   "source": [
    "Show me the open prices of AAPL"
   ]
  },
  {
   "cell_type": "code",
   "execution_count": 53,
   "metadata": {
    "collapsed": false
   },
   "outputs": [
    {
     "data": {
      "text/plain": [
       "2006-01-03 16:00:00    72.38\n",
       "2006-01-04 16:00:00    75.13\n",
       "2006-01-05 16:00:00    74.83\n",
       "2006-01-06 16:00:00    75.25\n",
       "2006-01-09 16:00:00    76.73\n",
       "Name: AAPL, dtype: float64"
      ]
     },
     "execution_count": 53,
     "metadata": {},
     "output_type": "execute_result"
    }
   ],
   "source": [
    "d_data['open']['AAPL'].head()"
   ]
  },
  {
   "cell_type": "code",
   "execution_count": 25,
   "metadata": {
    "collapsed": false
   },
   "outputs": [
    {
     "data": {
      "text/html": [
       "<div>\n",
       "<table border=\"1\" class=\"dataframe\">\n",
       "  <thead>\n",
       "    <tr style=\"text-align: right;\">\n",
       "      <th></th>\n",
       "      <th>AAPL</th>\n",
       "      <th>GLD</th>\n",
       "      <th>GOOG</th>\n",
       "      <th>$SPX</th>\n",
       "      <th>XOM</th>\n",
       "    </tr>\n",
       "  </thead>\n",
       "  <tbody>\n",
       "    <tr>\n",
       "      <th>2006-01-03 16:00:00</th>\n",
       "      <td>74.75</td>\n",
       "      <td>53.12</td>\n",
       "      <td>435.23</td>\n",
       "      <td>1268.80</td>\n",
       "      <td>58.47</td>\n",
       "    </tr>\n",
       "    <tr>\n",
       "      <th>2006-01-04 16:00:00</th>\n",
       "      <td>74.97</td>\n",
       "      <td>53.30</td>\n",
       "      <td>445.24</td>\n",
       "      <td>1273.46</td>\n",
       "      <td>58.57</td>\n",
       "    </tr>\n",
       "    <tr>\n",
       "      <th>2006-01-05 16:00:00</th>\n",
       "      <td>74.38</td>\n",
       "      <td>52.34</td>\n",
       "      <td>451.24</td>\n",
       "      <td>1273.48</td>\n",
       "      <td>58.28</td>\n",
       "    </tr>\n",
       "    <tr>\n",
       "      <th>2006-01-06 16:00:00</th>\n",
       "      <td>76.30</td>\n",
       "      <td>53.72</td>\n",
       "      <td>465.66</td>\n",
       "      <td>1285.45</td>\n",
       "      <td>59.43</td>\n",
       "    </tr>\n",
       "    <tr>\n",
       "      <th>2006-01-09 16:00:00</th>\n",
       "      <td>76.05</td>\n",
       "      <td>54.60</td>\n",
       "      <td>466.90</td>\n",
       "      <td>1290.15</td>\n",
       "      <td>59.40</td>\n",
       "    </tr>\n",
       "  </tbody>\n",
       "</table>\n",
       "</div>"
      ],
      "text/plain": [
       "                      AAPL    GLD    GOOG     $SPX    XOM\n",
       "2006-01-03 16:00:00  74.75  53.12  435.23  1268.80  58.47\n",
       "2006-01-04 16:00:00  74.97  53.30  445.24  1273.46  58.57\n",
       "2006-01-05 16:00:00  74.38  52.34  451.24  1273.48  58.28\n",
       "2006-01-06 16:00:00  76.30  53.72  465.66  1285.45  59.43\n",
       "2006-01-09 16:00:00  76.05  54.60  466.90  1290.15  59.40"
      ]
     },
     "execution_count": 25,
     "metadata": {},
     "output_type": "execute_result"
    }
   ],
   "source": [
    "d_data['actual_close'].head()"
   ]
  },
  {
   "cell_type": "code",
   "execution_count": 65,
   "metadata": {
    "collapsed": false
   },
   "outputs": [
    {
     "data": {
      "text/html": [
       "<div>\n",
       "<table border=\"1\" class=\"dataframe\">\n",
       "  <thead>\n",
       "    <tr style=\"text-align: right;\">\n",
       "      <th></th>\n",
       "      <th>AAPL</th>\n",
       "      <th>GLD</th>\n",
       "      <th>GOOG</th>\n",
       "      <th>$SPX</th>\n",
       "      <th>XOM</th>\n",
       "    </tr>\n",
       "  </thead>\n",
       "  <tbody>\n",
       "    <tr>\n",
       "      <th>2006-01-03 16:00:00</th>\n",
       "      <td>74.43</td>\n",
       "      <td>53.12</td>\n",
       "      <td>435.23</td>\n",
       "      <td>1268.80</td>\n",
       "      <td>50.47</td>\n",
       "    </tr>\n",
       "    <tr>\n",
       "      <th>2006-01-04 16:00:00</th>\n",
       "      <td>74.65</td>\n",
       "      <td>53.30</td>\n",
       "      <td>445.24</td>\n",
       "      <td>1273.46</td>\n",
       "      <td>50.56</td>\n",
       "    </tr>\n",
       "    <tr>\n",
       "      <th>2006-01-05 16:00:00</th>\n",
       "      <td>74.06</td>\n",
       "      <td>52.34</td>\n",
       "      <td>451.24</td>\n",
       "      <td>1273.48</td>\n",
       "      <td>50.31</td>\n",
       "    </tr>\n",
       "    <tr>\n",
       "      <th>2006-01-06 16:00:00</th>\n",
       "      <td>75.97</td>\n",
       "      <td>53.72</td>\n",
       "      <td>465.66</td>\n",
       "      <td>1285.45</td>\n",
       "      <td>51.30</td>\n",
       "    </tr>\n",
       "    <tr>\n",
       "      <th>2006-01-09 16:00:00</th>\n",
       "      <td>75.72</td>\n",
       "      <td>54.60</td>\n",
       "      <td>466.90</td>\n",
       "      <td>1290.15</td>\n",
       "      <td>51.28</td>\n",
       "    </tr>\n",
       "  </tbody>\n",
       "</table>\n",
       "</div>"
      ],
      "text/plain": [
       "                      AAPL    GLD    GOOG     $SPX    XOM\n",
       "2006-01-03 16:00:00  74.43  53.12  435.23  1268.80  50.47\n",
       "2006-01-04 16:00:00  74.65  53.30  445.24  1273.46  50.56\n",
       "2006-01-05 16:00:00  74.06  52.34  451.24  1273.48  50.31\n",
       "2006-01-06 16:00:00  75.97  53.72  465.66  1285.45  51.30\n",
       "2006-01-09 16:00:00  75.72  54.60  466.90  1290.15  51.28"
      ]
     },
     "execution_count": 65,
     "metadata": {},
     "output_type": "execute_result"
    }
   ],
   "source": [
    "d_data['close'].head()"
   ]
  },
  {
   "cell_type": "code",
   "execution_count": 27,
   "metadata": {
    "collapsed": false
   },
   "outputs": [
    {
     "data": {
      "text/plain": [
       "<matplotlib.text.Text at 0x10d5b1510>"
      ]
     },
     "execution_count": 27,
     "metadata": {},
     "output_type": "execute_result"
    },
    {
     "data": {
      "image/png": "[encoded data removed]",
      "text/plain": [
       "<matplotlib.figure.Figure at 0x1095a7150>"
      ]
     },
     "metadata": {},
     "output_type": "display_data"
    }
   ],
   "source": [
    "na_price = d_data['close'].values\n",
    "na_normalized_price = na_price / na_price[0, :]\n",
    "plt.clf()\n",
    "plt.plot(ldt_timestamps, na_normalized_price)\n",
    "plt.legend(ls_symbols)\n",
    "plt.ylabel('Adjusted Close')\n",
    "plt.xlabel('Date')"
   ]
  },
  {
   "cell_type": "markdown",
   "metadata": {},
   "source": [
    "## Daily Returns\n",
    "\n",
    "It can be calculated using this formula\n",
    "\n",
    "ret(t) = (price(t) / price(t-1)) - 1"
   ]
  },
  {
   "cell_type": "code",
   "execution_count": 74,
   "metadata": {
    "collapsed": false
   },
   "outputs": [
    {
     "data": {
      "text/plain": [
       "array([[ 1.        ,  1.        ,  1.        ,  1.        ,  1.        ],\n",
       "       [ 1.0029558 ,  1.00338855,  1.02299933,  1.00367276,  1.00178324],\n",
       "       [ 0.99502889,  0.98531627,  1.03678515,  1.00368852,  0.9968298 ],\n",
       "       ..., \n",
       "       [ 4.35415827,  2.58320783,  1.37609999,  0.99188997,  1.39449178],\n",
       "       [ 4.35173989,  2.59243223,  1.38087908,  0.99289092,  1.39369923],\n",
       "       [ 4.32997447,  2.57963102,  1.37596213,  0.99139344,  1.39350109]])"
      ]
     },
     "execution_count": 74,
     "metadata": {},
     "output_type": "execute_result"
    }
   ],
   "source": [
    "na_normalized_price"
   ]
  },
  {
   "cell_type": "code",
   "execution_count": 73,
   "metadata": {
    "collapsed": false
   },
   "outputs": [
    {
     "data": {
      "text/plain": [
       "array([[  0.00000000e+00,   0.00000000e+00,   0.00000000e+00,\n",
       "          0.00000000e+00,   0.00000000e+00],\n",
       "       [  2.95579739e-03,   3.38855422e-03,   2.29993337e-02,\n",
       "          3.67276166e-03,   1.78323757e-03],\n",
       "       [ -7.90354990e-03,  -1.80112570e-02,   1.34758782e-02,\n",
       "          1.57052440e-05,  -4.94462025e-03],\n",
       "       ..., \n",
       "       [  2.44362647e-03,   1.62938824e-02,  -5.74388260e-03,\n",
       "          7.71347233e-04,   5.57222460e-03],\n",
       "       [ -5.55418415e-04,   3.57090803e-03,   3.47291792e-03,\n",
       "          1.00912984e-03,  -5.68343279e-04],\n",
       "       [ -5.00154369e-03,  -4.93791301e-03,  -3.56073211e-03,\n",
       "         -1.50819984e-03,  -1.42166619e-04]])"
      ]
     },
     "execution_count": 73,
     "metadata": {},
     "output_type": "execute_result"
    }
   ],
   "source": [
    "na_rets = na_normalized_price.copy()\n",
    "tsu.returnize0(na_rets)"
   ]
  },
  {
   "cell_type": "markdown",
   "metadata": {},
   "source": [
    "Using pure pandas"
   ]
  },
  {
   "cell_type": "code",
   "execution_count": 99,
   "metadata": {
    "collapsed": false
   },
   "outputs": [
    {
     "data": {
      "text/html": [
       "<div>\n",
       "<table border=\"1\" class=\"dataframe\">\n",
       "  <thead>\n",
       "    <tr style=\"text-align: right;\">\n",
       "      <th></th>\n",
       "      <th>0</th>\n",
       "      <th>1</th>\n",
       "      <th>2</th>\n",
       "      <th>3</th>\n",
       "      <th>4</th>\n",
       "    </tr>\n",
       "  </thead>\n",
       "  <tbody>\n",
       "    <tr>\n",
       "      <th>0</th>\n",
       "      <td>NaN</td>\n",
       "      <td>NaN</td>\n",
       "      <td>NaN</td>\n",
       "      <td>NaN</td>\n",
       "      <td>NaN</td>\n",
       "    </tr>\n",
       "    <tr>\n",
       "      <th>1</th>\n",
       "      <td>0.002956</td>\n",
       "      <td>0.003389</td>\n",
       "      <td>0.022999</td>\n",
       "      <td>0.003673</td>\n",
       "      <td>0.001783</td>\n",
       "    </tr>\n",
       "    <tr>\n",
       "      <th>2</th>\n",
       "      <td>-0.007904</td>\n",
       "      <td>-0.018011</td>\n",
       "      <td>0.013476</td>\n",
       "      <td>0.000016</td>\n",
       "      <td>-0.004945</td>\n",
       "    </tr>\n",
       "    <tr>\n",
       "      <th>3</th>\n",
       "      <td>0.025790</td>\n",
       "      <td>0.026366</td>\n",
       "      <td>0.031956</td>\n",
       "      <td>0.009399</td>\n",
       "      <td>0.019678</td>\n",
       "    </tr>\n",
       "    <tr>\n",
       "      <th>4</th>\n",
       "      <td>-0.003291</td>\n",
       "      <td>0.016381</td>\n",
       "      <td>0.002663</td>\n",
       "      <td>0.003656</td>\n",
       "      <td>-0.000390</td>\n",
       "    </tr>\n",
       "  </tbody>\n",
       "</table>\n",
       "</div>"
      ],
      "text/plain": [
       "          0         1         2         3         4\n",
       "0       NaN       NaN       NaN       NaN       NaN\n",
       "1  0.002956  0.003389  0.022999  0.003673  0.001783\n",
       "2 -0.007904 -0.018011  0.013476  0.000016 -0.004945\n",
       "3  0.025790  0.026366  0.031956  0.009399  0.019678\n",
       "4 -0.003291  0.016381  0.002663  0.003656 -0.000390"
      ]
     },
     "execution_count": 99,
     "metadata": {},
     "output_type": "execute_result"
    }
   ],
   "source": [
    "pct_change = pd.DataFrame(na_normalized_price).pct_change(1)\n",
    "pct_change.head()"
   ]
  },
  {
   "cell_type": "code",
   "execution_count": 128,
   "metadata": {
    "collapsed": false
   },
   "outputs": [],
   "source": [
    "daily_change_of_AAPL = pct_change.ix[:50, 0]"
   ]
  },
  {
   "cell_type": "code",
   "execution_count": 129,
   "metadata": {
    "collapsed": false
   },
   "outputs": [
    {
     "data": {
      "text/plain": [
       "<matplotlib.text.Text at 0x10f00ef90>"
      ]
     },
     "execution_count": 129,
     "metadata": {},
     "output_type": "execute_result"
    },
    {
     "data": {
      "image/png": "[encoded data removed]",
      "text/plain": [
       "<matplotlib.figure.Figure at 0x10ed7b110>"
      ]
     },
     "metadata": {},
     "output_type": "display_data"
    }
   ],
   "source": [
    "plt.clf()\n",
    "plt.plot(ldt_timestamps[0:51][:], daily_change_of_AAPL)\n",
    "plt.legend(ls_symbols)\n",
    "plt.ylabel('Adjusted Close')\n",
    "plt.xlabel('Date')"
   ]
  },
  {
   "cell_type": "markdown",
   "metadata": {},
   "source": [
    "The scatter plot of $SPX versus GLD"
   ]
  },
  {
   "cell_type": "code",
   "execution_count": 39,
   "metadata": {
    "collapsed": false
   },
   "outputs": [
    {
     "data": {
      "text/plain": [
       "<matplotlib.collections.PathCollection at 0x10d9746d0>"
      ]
     },
     "execution_count": 39,
     "metadata": {},
     "output_type": "execute_result"
    },
    {
     "data": {
      "image/png": "[encoded data removed]",
      "text/plain": [
       "<matplotlib.figure.Figure at 0x10d711110>"
      ]
     },
     "metadata": {},
     "output_type": "display_data"
    }
   ],
   "source": [
    "plt.scatter(na_rets[:, 3], na_rets[:, 1], c='blue')"
   ]
  },
  {
   "cell_type": "markdown",
   "metadata": {},
   "source": [
    "## Cumulative Daily Returns\n",
    "\n",
    "daily_cum_ret(t) = daily_cum_ret(t-1) * (1 + daily_ret(t))"
   ]
  },
  {
   "cell_type": "code",
   "execution_count": 138,
   "metadata": {
    "collapsed": false
   },
   "outputs": [],
   "source": [
    "cumulative_daily_returns = pct_change.cumsum()"
   ]
  },
  {
   "cell_type": "code",
   "execution_count": 139,
   "metadata": {
    "collapsed": false
   },
   "outputs": [
    {
     "data": {
      "text/html": [
       "<div>\n",
       "<table border=\"1\" class=\"dataframe\">\n",
       "  <thead>\n",
       "    <tr style=\"text-align: right;\">\n",
       "      <th></th>\n",
       "      <th>0</th>\n",
       "      <th>1</th>\n",
       "      <th>2</th>\n",
       "      <th>3</th>\n",
       "      <th>4</th>\n",
       "    </tr>\n",
       "  </thead>\n",
       "  <tbody>\n",
       "    <tr>\n",
       "      <th>0</th>\n",
       "      <td>NaN</td>\n",
       "      <td>NaN</td>\n",
       "      <td>NaN</td>\n",
       "      <td>NaN</td>\n",
       "      <td>NaN</td>\n",
       "    </tr>\n",
       "    <tr>\n",
       "      <th>1</th>\n",
       "      <td>0.002956</td>\n",
       "      <td>0.003389</td>\n",
       "      <td>0.022999</td>\n",
       "      <td>0.003673</td>\n",
       "      <td>0.001783</td>\n",
       "    </tr>\n",
       "    <tr>\n",
       "      <th>2</th>\n",
       "      <td>-0.004948</td>\n",
       "      <td>-0.014623</td>\n",
       "      <td>0.036475</td>\n",
       "      <td>0.003688</td>\n",
       "      <td>-0.003161</td>\n",
       "    </tr>\n",
       "    <tr>\n",
       "      <th>3</th>\n",
       "      <td>0.020842</td>\n",
       "      <td>0.011743</td>\n",
       "      <td>0.068432</td>\n",
       "      <td>0.013088</td>\n",
       "      <td>0.016517</td>\n",
       "    </tr>\n",
       "    <tr>\n",
       "      <th>4</th>\n",
       "      <td>0.017551</td>\n",
       "      <td>0.028125</td>\n",
       "      <td>0.071094</td>\n",
       "      <td>0.016744</td>\n",
       "      <td>0.016127</td>\n",
       "    </tr>\n",
       "  </tbody>\n",
       "</table>\n",
       "</div>"
      ],
      "text/plain": [
       "          0         1         2         3         4\n",
       "0       NaN       NaN       NaN       NaN       NaN\n",
       "1  0.002956  0.003389  0.022999  0.003673  0.001783\n",
       "2 -0.004948 -0.014623  0.036475  0.003688 -0.003161\n",
       "3  0.020842  0.011743  0.068432  0.013088  0.016517\n",
       "4  0.017551  0.028125  0.071094  0.016744  0.016127"
      ]
     },
     "execution_count": 139,
     "metadata": {},
     "output_type": "execute_result"
    }
   ],
   "source": [
    "cumulative_daily_returns.head()"
   ]
  },
  {
   "cell_type": "code",
   "execution_count": 140,
   "metadata": {
    "collapsed": false
   },
   "outputs": [
    {
     "data": {
      "text/plain": [
       "<matplotlib.axes._subplots.AxesSubplot at 0x10f4f3310>"
      ]
     },
     "execution_count": 140,
     "metadata": {},
     "output_type": "execute_result"
    },
    {
     "data": {
      "image/png": "[encoded data removed]",
      "text/plain": [
       "<matplotlib.figure.Figure at 0x10e9e2290>"
      ]
     },
     "metadata": {},
     "output_type": "display_data"
    }
   ],
   "source": [
    "cumulative_daily_returns.plot()"
   ]
  },
  {
   "cell_type": "markdown",
   "metadata": {},
   "source": [
    "## Simulation\n",
    "\n",
    "Going to write a function than returns, SD, avg_daily_returns, sharpe and cumulative return of portfolio\n",
    "\n",
    "vol, daily_ret, sharpe, cum_ret = simulate(startdate, enddate, ['GOOG', 'AAPL', 'GLD', 'XOM'], [0.2, 0.3, 0.4, 0.1]"
   ]
  },
  {
   "cell_type": "markdown",
   "metadata": {},
   "source": [
    "### Example\n",
    "\n",
    "**Start Date**: January 1, 2011 <br>\n",
    "**End Date**: December 31, 2011 <br>\n",
    "**Symbols**: ['AAPL', 'GOOG', 'XOM', 'GLD'] <br>\n",
    "**Optimal Allocations**: [0.4, 0.0, 0.2, 0.4] <br>\n",
    "**Sharpe Ratio**: 1.02828403099 <br>\n",
    "**Volatility (stdev of daily returns)**: 0.0101467067654 <br>\n",
    "**Average Daily Return**: 0.000657261102001 <br>\n",
    "**Cumulative Return**: 1.16487261965 <br>"
   ]
  },
  {
   "cell_type": "code",
   "execution_count": 144,
   "metadata": {
    "collapsed": true
   },
   "outputs": [],
   "source": [
    "def simulate(dt_start, dt_end, symbols, allocs):\n",
    "    dt_timeofday = dt.timedelta(hours=16)\n",
    "    ldt_timestamps = du.getNYSEdays(dt_start, dt_end, dt_timeofday)\n",
    "    \n",
    "    vol = 0\n",
    "    daily_ret = 0\n",
    "    sharpe = 0\n",
    "    cum_ret = 0\n",
    "    return vol, daily_ret, sharpe, cum_ret"
   ]
  },
  {
   "cell_type": "code",
   "execution_count": 145,
   "metadata": {
    "collapsed": true
   },
   "outputs": [],
   "source": [
    "symbols = ['AAPL', 'GOOG', 'XOM', 'GLD']\n",
    "dt_start = dt.datetime(2006, 1, 1)\n",
    "dt_end = dt.datetime(2010, 12, 31)\n",
    "allocs = [0.2, 0.3, 0.4, 0.1]"
   ]
  },
  {
   "cell_type": "code",
   "execution_count": 146,
   "metadata": {
    "collapsed": false
   },
   "outputs": [
    {
     "data": {
      "text/plain": [
       "(0, 0, 0, 0)"
      ]
     },
     "execution_count": 146,
     "metadata": {},
     "output_type": "execute_result"
    }
   ],
   "source": [
    "simulate(dt_start, dt_end, symbols, allocs)"
   ]
  },
  {
   "cell_type": "code",
   "execution_count": null,
   "metadata": {
    "collapsed": true
   },
   "outputs": [],
   "source": []
  }
 ],
 "metadata": {
  "kernelspec": {
   "display_name": "Python 2",
   "language": "python",
   "name": "python2"
  },
  "language_info": {
   "codemirror_mode": {
    "name": "ipython",
    "version": 2
   },
   "file_extension": ".py",
   "mimetype": "text/x-python",
   "name": "python",
   "nbconvert_exporter": "python",
   "pygments_lexer": "ipython2",
   "version": "2.7.11"
  }
 },
 "nbformat": 4,
 "nbformat_minor": 0
}
