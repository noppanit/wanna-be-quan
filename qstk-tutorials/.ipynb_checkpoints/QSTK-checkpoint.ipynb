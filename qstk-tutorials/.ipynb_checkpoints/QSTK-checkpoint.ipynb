{
 "cells": [
  {
   "cell_type": "markdown",
   "metadata": {},
   "source": [
    "# QSTK\n",
    "\n",
    "This is my notebook to learn about QSTK or how to do quantitative financial modelling. \n",
    "\n",
    "The wiki can be found here. http://wiki.quantsoftware.org/index.php?title=QuantSoftware_ToolKit"
   ]
  },
  {
   "cell_type": "markdown",
   "metadata": {},
   "source": [
    "## Reading historical data"
   ]
  },
  {
   "cell_type": "code",
   "execution_count": null,
   "metadata": {
    "collapsed": false
   },
   "outputs": [],
   "source": [
    "import QSTK.qstkutil.qsdateutil as du\n",
    "import QSTK.qstkutil.tsutil as tsu\n",
    "import QSTK.qstkutil.DataAccess as da\n",
    "\n",
    "import matplotlib.pyplot as plt\n",
    "import datetime as dt\n",
    "import pandas as pd\n",
    "import math\n",
    "import numpy as np\n",
    "%matplotlib inline"
   ]
  },
  {
   "cell_type": "code",
   "execution_count": null,
   "metadata": {
    "collapsed": false
   },
   "outputs": [],
   "source": [
    "ls_symbols = [\"AAPL\", \"GLD\", \"GOOG\", \"$SPX\", \"XOM\"]\n",
    "dt_start = dt.datetime(2006,1,1)\n",
    "dt_end = dt.datetime(2010, 12, 31)\n",
    "dt_timeofday = dt.timedelta(hours=16)\n",
    "ldt_timestamps = du.getNYSEdays(dt_start, dt_end, dt_timeofday)"
   ]
  },
  {
   "cell_type": "code",
   "execution_count": null,
   "metadata": {
    "collapsed": false
   },
   "outputs": [],
   "source": [
    "c_dataobj = da.DataAccess('Yahoo', cachestalltime=0)\n",
    "ls_keys = ['open', 'high', 'low', 'close', 'volume', 'actual_close']\n",
    "ldf_data = c_dataobj.get_data(ldt_timestamps, ls_symbols, ls_keys)\n",
    "d_data = dict(zip(ls_keys, ldf_data))"
   ]
  },
  {
   "cell_type": "markdown",
   "metadata": {},
   "source": [
    "Show me the open prices of AAPL"
   ]
  },
  {
   "cell_type": "code",
   "execution_count": null,
   "metadata": {
    "collapsed": false
   },
   "outputs": [],
   "source": [
    "d_data['open']['AAPL'].head()"
   ]
  },
  {
   "cell_type": "code",
   "execution_count": null,
   "metadata": {
    "collapsed": false
   },
   "outputs": [],
   "source": [
    "d_data['actual_close'].head()"
   ]
  },
  {
   "cell_type": "code",
   "execution_count": null,
   "metadata": {
    "collapsed": false
   },
   "outputs": [],
   "source": [
    "d_data['close'].head()"
   ]
  },
  {
   "cell_type": "code",
   "execution_count": null,
   "metadata": {
    "collapsed": false
   },
   "outputs": [],
   "source": [
    "na_price = d_data['close'].values\n",
    "na_normalized_price = na_price / na_price[0, :]\n",
    "plt.clf()\n",
    "plt.plot(ldt_timestamps, na_normalized_price)\n",
    "plt.legend(ls_symbols)\n",
    "plt.ylabel('Adjusted Close')\n",
    "plt.xlabel('Date')"
   ]
  },
  {
   "cell_type": "markdown",
   "metadata": {},
   "source": [
    "## Daily Returns\n",
    "\n",
    "It can be calculated using this formula\n",
    "\n",
    "ret(t) = (price(t) / price(t-1)) - 1"
   ]
  },
  {
   "cell_type": "code",
   "execution_count": null,
   "metadata": {
    "collapsed": false
   },
   "outputs": [],
   "source": [
    "na_normalized_price"
   ]
  },
  {
   "cell_type": "code",
   "execution_count": null,
   "metadata": {
    "collapsed": false
   },
   "outputs": [],
   "source": [
    "na_rets = na_normalized_price.copy()\n",
    "tsu.returnize0(na_rets)"
   ]
  },
  {
   "cell_type": "markdown",
   "metadata": {},
   "source": [
    "Using pure pandas"
   ]
  },
  {
   "cell_type": "code",
   "execution_count": null,
   "metadata": {
    "collapsed": false
   },
   "outputs": [],
   "source": [
    "pct_change = pd.DataFrame(na_normalized_price).pct_change(1)\n",
    "pct_change.head()"
   ]
  },
  {
   "cell_type": "code",
   "execution_count": null,
   "metadata": {
    "collapsed": false
   },
   "outputs": [],
   "source": [
    "daily_change_of_AAPL = pct_change.ix[:50, 0]"
   ]
  },
  {
   "cell_type": "code",
   "execution_count": null,
   "metadata": {
    "collapsed": false
   },
   "outputs": [],
   "source": [
    "plt.clf()\n",
    "plt.plot(ldt_timestamps[0:51][:], daily_change_of_AAPL)\n",
    "plt.legend(ls_symbols)\n",
    "plt.ylabel('Adjusted Close')\n",
    "plt.xlabel('Date')"
   ]
  },
  {
   "cell_type": "markdown",
   "metadata": {},
   "source": [
    "The scatter plot of $SPX versus GLD"
   ]
  },
  {
   "cell_type": "code",
   "execution_count": null,
   "metadata": {
    "collapsed": false
   },
   "outputs": [],
   "source": [
    "plt.scatter(na_rets[:, 3], na_rets[:, 1], c='blue')"
   ]
  },
  {
   "cell_type": "markdown",
   "metadata": {},
   "source": [
    "## Cumulative Daily Returns\n",
    "\n",
    "daily_cum_ret(t) = daily_cum_ret(t-1) * (1 + daily_ret(t))"
   ]
  },
  {
   "cell_type": "code",
   "execution_count": null,
   "metadata": {
    "collapsed": false
   },
   "outputs": [],
   "source": [
    "cumulative_daily_returns = pct_change.cumsum()"
   ]
  },
  {
   "cell_type": "code",
   "execution_count": null,
   "metadata": {
    "collapsed": false
   },
   "outputs": [],
   "source": [
    "cumulative_daily_returns.head()"
   ]
  },
  {
   "cell_type": "code",
   "execution_count": null,
   "metadata": {
    "collapsed": false
   },
   "outputs": [],
   "source": [
    "cumulative_daily_returns.plot()"
   ]
  },
  {
   "cell_type": "markdown",
   "metadata": {},
   "source": [
    "## Simulation\n",
    "\n",
    "Going to write a function than returns, SD, avg_daily_returns, sharpe and cumulative return of portfolio\n",
    "\n",
    "vol, daily_ret, sharpe, cum_ret = simulate(startdate, enddate, ['GOOG', 'AAPL', 'GLD', 'XOM'], [0.2, 0.3, 0.4, 0.1]"
   ]
  },
  {
   "cell_type": "markdown",
   "metadata": {},
   "source": [
    "### Example\n",
    "\n",
    "**Start Date**: January 1, 2011 <br>\n",
    "**End Date**: December 31, 2011 <br>\n",
    "**Symbols**: ['AAPL', 'GOOG', 'XOM', 'GLD'] <br>\n",
    "**Optimal Allocations**: [0.4, 0.4, 0.0, 0.2] <br>\n",
    "**Sharpe Ratio**: 1.02828403099 <br>\n",
    "**Volatility (stdev of daily returns)**: 0.0101467067654 <br>\n",
    "**Average Daily Return**: 0.000657261102001 <br>\n",
    "**Cumulative Return**: 1.16487261965 <br>"
   ]
  },
  {
   "cell_type": "markdown",
   "metadata": {},
   "source": [
    "## Sharpe Ratio\n",
    "Sharpe = (sqrt(n) * avg(d)) / std(d)"
   ]
  },
  {
   "cell_type": "code",
   "execution_count": null,
   "metadata": {
    "collapsed": false
   },
   "outputs": [],
   "source": [
    "def simulate(dt_start, dt_end, symbols, allocs):\n",
    "    dt_timeofday = dt.timedelta(hours=16)\n",
    "    ldt_timestamps = du.getNYSEdays(dt_start, dt_end, dt_timeofday)\n",
    "\n",
    "    c_dataobj = da.DataAccess('Yahoo', cachestalltime=0)\n",
    "    ls_keys = ['open', 'high', 'low', 'close', 'volume', 'actual_close']\n",
    "    ldf_data = c_dataobj.get_data(ldt_timestamps, symbols, ls_keys)\n",
    "    d_data = dict(zip(ls_keys, ldf_data))\n",
    "\n",
    "    na_price = d_data['close'].values\n",
    "    na_normalized_price = na_price / na_price[0, :]\n",
    "    na_port_value = np.sum(na_normalized_price * allocs, axis=1)\n",
    "    \n",
    "    na_rets = na_port_value.copy()\n",
    "    daily_returns = tsu.returnize0(na_rets)\n",
    "    \n",
    "    avg = daily_returns.mean()\n",
    "    std = daily_returns.std()\n",
    "    sharpe_ratio = (math.sqrt(len(ldt_timestamps)) * avg) / std\n",
    "    return float(std), float(avg), float(sharpe_ratio), allocs"
   ]
  },
  {
   "cell_type": "code",
   "execution_count": null,
   "metadata": {
    "collapsed": false
   },
   "outputs": [],
   "source": [
    "symbols = ['AAPL', 'GLD', 'GOOG', 'XOM']\n",
    "dt_start = dt.datetime(2011, 1, 1)\n",
    "dt_end = dt.datetime(2011, 12, 31)\n",
    "allocs = [0.4, 0.4, 0.0, 0.2]\n",
    "portfolio = simulate(dt_start, dt_end, symbols, allocs)\n",
    "std, avg, sharpe_ratio, alloc = portfolio\n",
    "print(\"Std: {}\".format(std))\n",
    "print(\"Average: {}\".format(avg))\n",
    "print(\"Sharpe ratio: {}\".format(sharpe_ratio))"
   ]
  },
  {
   "cell_type": "code",
   "execution_count": null,
   "metadata": {
    "collapsed": false
   },
   "outputs": [],
   "source": [
    "symbols = ['AXP', 'HPQ', 'IBM', 'HNZ']\n",
    "dt_start = dt.datetime(2010, 1, 1)\n",
    "dt_end = dt.datetime(2010, 12, 31)\n",
    "allocs = [0.0, 0.0, 0.0, 1.0]\n",
    "portfolio = simulate(dt_start, dt_end, symbols, allocs)\n",
    "std, avg, sharpe_ratio, alloc = portfolio\n",
    "print(\"Std: {}\".format(std))\n",
    "print(\"Average: {}\".format(avg))\n",
    "print(\"Sharpe ratio: {}\".format(sharpe_ratio))"
   ]
  },
  {
   "cell_type": "markdown",
   "metadata": {
    "collapsed": true
   },
   "source": [
    "## Simulation"
   ]
  },
  {
   "cell_type": "code",
   "execution_count": null,
   "metadata": {
    "collapsed": true
   },
   "outputs": [],
   "source": [
    "import itertools\n",
    "perm_of_allocs = [[x /10.0 for x in t] for t in itertools.product(range(11), repeat=4) if sum(t)==10]"
   ]
  },
  {
   "cell_type": "code",
   "execution_count": null,
   "metadata": {
    "collapsed": false
   },
   "outputs": [],
   "source": [
    "possible_allocs = []\n",
    "for i in range(10):\n",
    "    for j in range(10):\n",
    "        for k in range(10):\n",
    "            for l in range(10):\n",
    "                if (i + j + k + l == 10):\n",
    "                    possible_allocs.append([i/10.0, j/10.0, k/10.0, l/10.0])"
   ]
  },
  {
   "cell_type": "code",
   "execution_count": null,
   "metadata": {
    "collapsed": false
   },
   "outputs": [],
   "source": [
    "symbols = ['AAPL', 'GOOG', 'IBM', 'MSFT']\n",
    "dt_start = dt.datetime(2011, 1, 1)\n",
    "dt_end = dt.datetime(2011, 12, 31)\n",
    "\n",
    "portfolios = []\n",
    "for alloc in possible_allocs:\n",
    "    portfolios.append(simulate(dt_start, dt_end, symbols, alloc))\n",
    "        \n",
    "portfolios.sort(key = lambda tup: tup[2], reverse=True)\n",
    "portfolios[:1]"
   ]
  },
  {
   "cell_type": "code",
   "execution_count": null,
   "metadata": {
    "collapsed": false
   },
   "outputs": [],
   "source": [
    "symbols = ['BRCM', 'ADBE', 'AMD', 'ADI']\n",
    "dt_start = dt.datetime(2010, 1, 1)\n",
    "dt_end = dt.datetime(2010, 12, 31)\n",
    "\n",
    "portfolios = []\n",
    "for alloc in possible_allocs:\n",
    "    portfolios.append(simulate(dt_start, dt_end, symbols, alloc))\n",
    "\n",
    "portfolios.sort(key = lambda tup: tup[2], reverse=True)\n",
    "portfolios[:1]"
   ]
  },
  {
   "cell_type": "code",
   "execution_count": null,
   "metadata": {
    "collapsed": false
   },
   "outputs": [],
   "source": [
    "symbols = ['BRCM', 'TXN', 'AMD', 'ADI']\n",
    "dt_start = dt.datetime(2011, 1, 1)\n",
    "dt_end = dt.datetime(2011, 12, 31)\n",
    "\n",
    "portfolios = []\n",
    "for alloc in possible_allocs:\n",
    "    portfolios.append(simulate(dt_start, dt_end, symbols, alloc))\n",
    "    \n",
    "portfolios.sort(key = lambda tup: tup[2], reverse=True)\n",
    "portfolios[:1]"
   ]
  },
  {
   "cell_type": "code",
   "execution_count": null,
   "metadata": {
    "collapsed": false
   },
   "outputs": [],
   "source": [
    "symbols = ['BRCM', 'TXN', 'IBM', 'HNZ']\n",
    "dt_start = dt.datetime(2010, 1, 1)\n",
    "dt_end = dt.datetime(2010, 12, 31)\n",
    "\n",
    "portfolios = []\n",
    "for alloc in possible_allocs:\n",
    "    portfolios.append(simulate(dt_start, dt_end, symbols, alloc))\n",
    "    \n",
    "portfolios.sort(key = lambda tup: tup[2], reverse=True)\n",
    "portfolios[:1]"
   ]
  },
  {
   "cell_type": "code",
   "execution_count": null,
   "metadata": {
    "collapsed": false
   },
   "outputs": [],
   "source": [
    "symbols = ['C', 'GS', 'IBM', 'HNZ']\n",
    "dt_start = dt.datetime(2010, 1, 1)\n",
    "dt_end = dt.datetime(2010, 12, 31)\n",
    "\n",
    "portfolios = []\n",
    "for alloc in possible_allocs:\n",
    "    portfolios.append(simulate(dt_start, dt_end, symbols, alloc))\n",
    "    \n",
    "portfolios.sort(key = lambda tup: tup[2], reverse=True)\n",
    "portfolios[:1]"
   ]
  }
 ],
 "metadata": {
  "kernelspec": {
   "display_name": "Python 2",
   "language": "python",
   "name": "python2"
  },
  "language_info": {
   "codemirror_mode": {
    "name": "ipython",
    "version": 2
   },
   "file_extension": ".py",
   "mimetype": "text/x-python",
   "name": "python",
   "nbconvert_exporter": "python",
   "pygments_lexer": "ipython2",
   "version": "2.7.11"
  }
 },
 "nbformat": 4,
 "nbformat_minor": 0
}
